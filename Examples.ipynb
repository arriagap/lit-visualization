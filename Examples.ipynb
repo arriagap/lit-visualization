{
 "cells": [
  {
   "cell_type": "code",
   "execution_count": 3,
   "metadata": {
    "collapsed": true
   },
   "outputs": [],
   "source": [
    "import parser"
   ]
  },
  {
   "cell_type": "markdown",
   "metadata": {},
   "source": [
    "<h2>Cleaning input text</h2>"
   ]
  },
  {
   "cell_type": "code",
   "execution_count": 7,
   "metadata": {
    "collapsed": false
   },
   "outputs": [
    {
     "name": "stdout",
     "output_type": "stream",
     "text": [
      "The initial input text is:\n",
      "['She walks in beauty, like the night \\n', 'Of cloudless climes and starry skies; \\n', 'And all that\\xe2\\x80\\x99s best of dark and bright \\n', 'Meet in her aspect and her eyes; \\n', 'Thus mellowed to that tender light \\n', 'Which heaven to gaudy day denies. \\n', '\\n', 'One shade the more, one ray the less, \\n', 'Had half impaired the nameless grace \\n', 'Which waves in every raven tress, \\n', 'Or softly lightens o\\xe2\\x80\\x99er her face; \\n', 'Where thoughts serenely sweet express, \\n', 'How pure, how dear their dwelling-place. \\n', '\\n', 'And on that cheek, and o\\xe2\\x80\\x99er that brow, \\n', 'So soft, so calm, yet eloquent, \\n', 'The smiles that win, the tints that glow, \\n', 'But tell of days in goodness spent, \\n', 'A mind at peace with all below, \\n', 'A heart whose love is innocent!']\n",
      "\n",
      "\n",
      "\n",
      "\n",
      "After cleaning:\n",
      "['', 'WALKS', '', 'BEAUTY', '', '', 'NIGHT', '', 'CLOUDLESS', 'CLIMES', '', 'STARRY', 'SKIES', '', '', '', 'BEST', '', 'DARK', '', 'BRIGHT', 'MEET', '', '', 'ASPECT', '', '', 'EYES', '', 'MELLOWED', '', '', 'TENDER', 'LIGHT', '', 'SHADE', '', '', '', 'RAY', '', '', '', 'HALF', 'IMPAIRED', '', 'NAMELESS', 'GRACE', '', 'WAVES', '', '', 'RAVEN', 'TRESS', '', 'SOFTLY', 'LIGHTENS', 'OER', '', 'FACE', '', 'THOUGHTS', 'SERENELY', 'SWEET', 'EXPRESS', '', '', '', 'CHEEK', '', 'OER', '', 'BROW', '', 'SOFT', '', 'CALM', '', 'ELOQUENT', '', 'SMILES', '', 'WIN', '', 'TINTS', '', 'GLOW', '', '', '', 'DAYS', '', 'GOODNESS', 'SPENT', '', 'MIND', '', 'PEACE', '', '', '', '', 'HEART', '', 'LOVE', '', 'INNOCENT']\n"
     ]
    }
   ],
   "source": [
    "#Read in text\n",
    "f = open('byron.txt','rb')\n",
    "text = f.readlines()\n",
    "\n",
    "print 'The initial input text is:'\n",
    "print text \n",
    "print '\\n\\n\\n'\n",
    "\n",
    "#Removes punctuation and turn into a list of words\n",
    "text = parser.split_text(text)\n",
    "#Removes the most common words\n",
    "text = parser.remove_stopwords(text)\n",
    "\n",
    "print 'After cleaning:'\n",
    "print text"
   ]
  },
  {
   "cell_type": "markdown",
   "metadata": {},
   "source": [
    "<h2>Forming synsets</h2>"
   ]
  },
  {
   "cell_type": "code",
   "execution_count": 15,
   "metadata": {
    "collapsed": false
   },
   "outputs": [
    {
     "name": "stdout",
     "output_type": "stream",
     "text": [
      "Lemmas for the word NIGHT:\n",
      "set([u'dark', u'Nox', u'Night', u'nighttime', u'night'])\n",
      "\n",
      "\n",
      "\n",
      "\n",
      "Recursive set of Lemmas for word NIGHT:\n",
      "set([u'dour', u'morose', u'dark-skinned', u'saturnine', u'glum', u'benighted', u'wickedness', u'blue', u'sullen', u'darkness', u'disconsolate', u'nox', u'black', u'Nox', u'sorry', u'dreary', u'coloured', u'dark', u'gloomy', u'dismal', u'drab', u'shadow', u'grim', u'moody', u'Night', u'drear', u'colored', u'iniquity', u'sinister', u'nighttime', u'dingy', u'sour', u'night', u'non-white', u'obscure', u'glowering'])\n"
     ]
    }
   ],
   "source": [
    "# Wordnet is the database for words and lemmas. \n",
    "# Lists are stored in my home directory\n",
    "from nltk.corpus import wordnet as wn\n",
    "word = 'NIGHT'\n",
    "syn_list = wn.synsets(word)\n",
    "\n",
    "#Lemmas are like associated words?\n",
    "lemmas = []\n",
    "for syn in syn_list:\n",
    "    lemmas += syn.lemma_names()\n",
    "lemmas = set(lemmas)\n",
    "print \"Lemmas for the word \" + word + \":\"\n",
    "print lemmas\n",
    "print \"\\n\\n\\n\"\n",
    "\n",
    "recursive = []\n",
    "for lemma in lemmas:\n",
    "    syn_list = wn.synsets(lemma)\n",
    "    for syn in syn_list:\n",
    "        recursive.append(syn.name().split('.')[0])\n",
    "        recursive += syn.lemma_names()\n",
    "recursive = set(recursive)\n",
    "print \"Recursive set of Lemmas for word \" + word + \":\"\n",
    "print recursive"
   ]
  },
  {
   "cell_type": "code",
   "execution_count": 7,
   "metadata": {
    "collapsed": false
   },
   "outputs": [
    {
     "name": "stdout",
     "output_type": "stream",
     "text": [
      "Synonyms for NIGHT:\n",
      "[u'midnight', u'duskiness', u'gloom', u'evening', u'darkness']\n"
     ]
    }
   ],
   "source": [
    "# Pydictionary is a less sophisticated version of synsets\n",
    "from PyDictionary import PyDictionary\n",
    "dic = PyDictionary()\n",
    "word = 'NIGHT'\n",
    "synonyms = dic.synonym(word)\n",
    "print \"Synonyms for \" + word + \":\" \n",
    "print synonyms"
   ]
  },
  {
   "cell_type": "code",
   "execution_count": null,
   "metadata": {
    "collapsed": true
   },
   "outputs": [],
   "source": []
  }
 ],
 "metadata": {
  "kernelspec": {
   "display_name": "Python 2",
   "language": "python",
   "name": "python2"
  },
  "language_info": {
   "codemirror_mode": {
    "name": "ipython",
    "version": 2
   },
   "file_extension": ".py",
   "mimetype": "text/x-python",
   "name": "python",
   "nbconvert_exporter": "python",
   "pygments_lexer": "ipython2",
   "version": "2.7.6"
  }
 },
 "nbformat": 4,
 "nbformat_minor": 1
}
