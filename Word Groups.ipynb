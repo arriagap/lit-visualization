{
 "cells": [
  {
   "cell_type": "code",
   "execution_count": 1,
   "metadata": {
    "collapsed": false
   },
   "outputs": [],
   "source": [
    "import parser\n",
    "from analyse import *\n",
    "from nltk.corpus import wordnet as wn"
   ]
  },
  {
   "cell_type": "markdown",
   "metadata": {},
   "source": [
    "<h2>Cleaning input text</h2>"
   ]
  },
  {
   "cell_type": "code",
   "execution_count": 7,
   "metadata": {
    "collapsed": false
   },
   "outputs": [
    {
     "name": "stdout",
     "output_type": "stream",
     "text": [
      "The initial input text is:\n",
      "['She walks in beauty, like the night \\n', 'Of cloudless climes and starry skies; \\n', 'And all that\\xe2\\x80\\x99s best of dark and bright \\n', 'Meet in her aspect and her eyes; \\n', 'Thus mellowed to that tender light \\n', 'Which heaven to gaudy day denies. \\n', '\\n', 'One shade the more, one ray the less, \\n', 'Had half impaired the nameless grace \\n', 'Which waves in every raven tress, \\n', 'Or softly lightens o\\xe2\\x80\\x99er her face; \\n', 'Where thoughts serenely sweet express, \\n', 'How pure, how dear their dwelling-place. \\n', '\\n', 'And on that cheek, and o\\xe2\\x80\\x99er that brow, \\n', 'So soft, so calm, yet eloquent, \\n', 'The smiles that win, the tints that glow, \\n', 'But tell of days in goodness spent, \\n', 'A mind at peace with all below, \\n', 'A heart whose love is innocent!']\n",
      "\n",
      "\n",
      "\n",
      "\n",
      "After cleaning:\n",
      "['', 'WALKS', '', 'BEAUTY', '', '', 'NIGHT', '', 'CLOUDLESS', 'CLIMES', '', 'STARRY', 'SKIES', '', '', '', 'BEST', '', 'DARK', '', 'BRIGHT', 'MEET', '', '', 'ASPECT', '', '', 'EYES', '', 'MELLOWED', '', '', 'TENDER', 'LIGHT', '', 'SHADE', '', '', '', 'RAY', '', '', '', 'HALF', 'IMPAIRED', '', 'NAMELESS', 'GRACE', '', 'WAVES', '', '', 'RAVEN', 'TRESS', '', 'SOFTLY', 'LIGHTENS', 'OER', '', 'FACE', '', 'THOUGHTS', 'SERENELY', 'SWEET', 'EXPRESS', '', '', '', 'CHEEK', '', 'OER', '', 'BROW', '', 'SOFT', '', 'CALM', '', 'ELOQUENT', '', 'SMILES', '', 'WIN', '', 'TINTS', '', 'GLOW', '', '', '', 'DAYS', '', 'GOODNESS', 'SPENT', '', 'MIND', '', 'PEACE', '', '', '', '', 'HEART', '', 'LOVE', '', 'INNOCENT']\n"
     ]
    }
   ],
   "source": [
    "#Read in text\n",
    "f = open('byron.txt','rb')\n",
    "text = f.readlines()\n",
    "\n",
    "print 'The initial input text is:'\n",
    "print text \n",
    "print '\\n\\n\\n'\n",
    "\n",
    "#Removes punctuation and turn into a list of words\n",
    "text = parser.split_text(text)\n",
    "#Removes the most common words\n",
    "text = parser.remove_stopwords(text)\n",
    "\n",
    "print 'After cleaning:'\n",
    "print text"
   ]
  },
  {
   "cell_type": "markdown",
   "metadata": {},
   "source": [
    "<h2>Forming synsets</h2>"
   ]
  },
  {
   "cell_type": "code",
   "execution_count": 28,
   "metadata": {
    "collapsed": false
   },
   "outputs": [
    {
     "name": "stdout",
     "output_type": "stream",
     "text": [
      "Lemmas for word DARK:\n",
      "set([u'dour', u'morose', u'dark-skinned', u'saturnine', u'glum', u'benighted', u'wickedness', u'blue', u'sullen', u'darkness', u'disconsolate', u'black', u'sorry', u'dreary', u'coloured', u'dark', u'gloomy', u'dismal', u'drab', u'shadow', u'grim', u'moody', u'drear', u'colored', u'iniquity', u'sinister', u'nighttime', u'dingy', u'sour', u'night', u'non-white', u'obscure', u'glowering'])\n",
      "\n",
      "\n",
      "\n",
      "Morphy for word DARKENED:\n",
      "darken\n",
      "Morphy for word DARKENS:\n",
      "darken\n"
     ]
    }
   ],
   "source": [
    "# Wordnet is the database for words and lemmas. \n",
    "# Lists are stored in my home directory\n",
    "from nltk.corpus import wordnet as wn\n",
    "word = 'DARK'\n",
    "\n",
    "print 'Lemmas for word ' + word + \":\"\n",
    "print get_lemmaset(word)\n",
    "print \"\\n\\n\"\n",
    "\n",
    "# Morphy is the sort of base for a word\n",
    "word = 'DARKENED'\n",
    "print 'Morphy for word ' + word + \":\"\n",
    "print wn.morphy(word.lower())\n",
    "word = 'DARKENS'\n",
    "print 'Morphy for word ' + word + \":\"\n",
    "print wn.morphy(word.lower())"
   ]
  },
  {
   "cell_type": "code",
   "execution_count": 18,
   "metadata": {
    "collapsed": false
   },
   "outputs": [
    {
     "name": "stdout",
     "output_type": "stream",
     "text": [
      "Synonyms for DARK from PyDictionary:\n",
      "[u'dim', u'misty', u'murky', u'shadowy', u'overcast']\n"
     ]
    }
   ],
   "source": [
    "# Pydictionary is a less sophisticated version of synsets\n",
    "from PyDictionary import PyDictionary\n",
    "dic = PyDictionary()\n",
    "word = 'DARK'\n",
    "synonyms = dic.synonym(word)\n",
    "print \"Synonyms for \" + word + \" from PyDictionary:\" \n",
    "print synonyms"
   ]
  },
  {
   "cell_type": "code",
   "execution_count": 23,
   "metadata": {
    "collapsed": false
   },
   "outputs": [
    {
     "name": "stdout",
     "output_type": "stream",
     "text": [
      "Synset for word DARKNESS:\n",
      "['darkness', u'dark', u'dim', u'misty', u'murky', u'shadowy', u'overcast', u'iniquity', u'heinousness', u'infamy', u'immorality', u'abomination', u'baseness']\n"
     ]
    }
   ],
   "source": [
    "word = 'DARKNESS'\n",
    "print 'Synset for word ' + word + ':'\n",
    "print get_synset(word, dic)\n",
    "print '\\n\\n'\n",
    "\n",
    "print 'Recursive synset for word ' + word + ':'\n"
   ]
  },
  {
   "cell_type": "markdown",
   "metadata": {},
   "source": [
    "<h3>Analysing a set </h3>"
   ]
  },
  {
   "cell_type": "code",
   "execution_count": 4,
   "metadata": {
    "collapsed": false
   },
   "outputs": [],
   "source": [
    "text = test_text()\n",
    "word_dic, marks = mark_words(text, getset = 'synset')"
   ]
  },
  {
   "cell_type": "code",
   "execution_count": 7,
   "metadata": {
    "collapsed": false
   },
   "outputs": [
    {
     "name": "stdout",
     "output_type": "stream",
     "text": [
      "['INNOCENT']\n",
      "['BROW']\n",
      "['ELOQUENT']\n",
      "['WIN']\n",
      "['PEACE']\n",
      "['BEAUTY', 'ASPECT', 'SHADE', 'GRACE', 'FACE']\n",
      "['WALKS']\n",
      "['CLOUDLESS', 'SKIES', 'BRIGHT', 'MEET', 'LIGHT', 'THOUGHTS', 'DAYS']\n",
      "['NIGHT', 'DARK', 'TINTS']\n",
      "['STARRY']\n",
      "['CLIMES']\n",
      "['EYES', 'MIND', 'HEART']\n",
      "['BEST', 'CALM', 'GOODNESS', 'LOVE']\n",
      "['RAY', 'LIGHTENS', 'SMILES', 'GLOW']\n",
      "['MELLOWED', 'TENDER', 'SWEET', 'SOFT']\n",
      "['IMPAIRED']\n",
      "['HALF', 'RAVEN']\n",
      "['WAVES']\n",
      "['NAMELESS']\n",
      "['SOFTLY']\n",
      "['TRESS']\n",
      "['SERENELY']\n",
      "['OER']\n",
      "['CHEEK']\n",
      "['EXPRESS', 'SPENT']\n",
      "[]\n"
     ]
    }
   ],
   "source": [
    "for key in word_dic.keys():\n",
    "    ls = []\n",
    "    for word in word_dic[key]:\n",
    "        if len(word) > 0:\n",
    "            if word[0].isupper():\n",
    "                ls.append(word)\n",
    "    print ls"
   ]
  },
  {
   "cell_type": "code",
   "execution_count": 8,
   "metadata": {
    "collapsed": false
   },
   "outputs": [],
   "source": [
    "def main_key(word_dic, marks, text):\n",
    "    main_key_list = [word_dic[str(i)][0] for i in marks]\n",
    "    zipped = zip(main_key_list, text)\n",
    "    z = [x for x in zipped if x[0] != '']\n",
    "    # make it so that it counts the number of time                                                    \n",
    "    return z"
   ]
  },
  {
   "cell_type": "code",
   "execution_count": 9,
   "metadata": {
    "collapsed": false
   },
   "outputs": [
    {
     "name": "stdout",
     "output_type": "stream",
     "text": [
      "['LIGHTENS']\n",
      "['OER']\n",
      "['SERENELY']\n",
      "['SWEET']\n",
      "['WAVES']\n",
      "['RAVEN']\n",
      "['TRESS']\n",
      "['SOFTLY', 'SOFT']\n",
      "['EXPRESS']\n",
      "['BROW']\n",
      "['BEAUTY']\n",
      "['WALKS', 'SPENT']\n",
      "['CLOUDLESS', 'LIGHT']\n",
      "['NIGHT', 'DARK']\n",
      "['STARRY']\n",
      "['CLIMES']\n",
      "['BEST', 'GOODNESS', 'LOVE']\n",
      "['SKIES']\n",
      "['MEET', 'TINTS']\n",
      "['BRIGHT']\n",
      "['EYES', 'HEART']\n",
      "['ASPECT', 'FACE', 'THOUGHTS', 'CHEEK']\n",
      "['TENDER']\n",
      "['MELLOWED']\n",
      "['RAY', 'GLOW']\n",
      "['SHADE']\n",
      "['IMPAIRED']\n",
      "['HALF']\n",
      "['GRACE']\n",
      "['NAMELESS']\n",
      "['ELOQUENT']\n",
      "['CALM']\n",
      "['INNOCENT']\n",
      "['PEACE']\n",
      "['MIND']\n",
      "['DAYS']\n",
      "['WIN']\n",
      "[]\n",
      "['SMILES']\n"
     ]
    }
   ],
   "source": [
    "text = test_text()\n",
    "word_dic, marks = mark_words(text, getset = 'lemmas')\n",
    "for key in word_dic.keys():\n",
    "    ls = []\n",
    "    for word in word_dic[key]:\n",
    "        if len(word) > 1:\n",
    "            if word[1].isupper():\n",
    "                ls.append(word)\n",
    "    print ls"
   ]
  },
  {
   "cell_type": "markdown",
   "metadata": {
    "collapsed": true
   },
   "source": [
    "<h3>Path similarity</h3>"
   ]
  },
  {
   "cell_type": "code",
   "execution_count": null,
   "metadata": {
    "collapsed": true
   },
   "outputs": [],
   "source": [
    "test_group = ['CLOUDLESS', 'SKIES', 'BRIGHT', 'MEET', 'LIGHT', 'THOUGHTS', 'DAYS']"
   ]
  }
 ],
 "metadata": {
  "kernelspec": {
   "display_name": "Python 2",
   "language": "python",
   "name": "python2"
  },
  "language_info": {
   "codemirror_mode": {
    "name": "ipython",
    "version": 2
   },
   "file_extension": ".py",
   "mimetype": "text/x-python",
   "name": "python",
   "nbconvert_exporter": "python",
   "pygments_lexer": "ipython2",
   "version": "2.7.6"
  }
 },
 "nbformat": 4,
 "nbformat_minor": 1
}
